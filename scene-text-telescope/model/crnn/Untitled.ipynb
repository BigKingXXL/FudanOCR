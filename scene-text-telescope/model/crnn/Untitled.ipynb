{
 "cells": [
  {
   "cell_type": "code",
   "execution_count": 1,
   "metadata": {},
   "outputs": [],
   "source": [
    "import torch\n",
    "import cv2\n",
    "import numpy as np"
   ]
  },
  {
   "cell_type": "code",
   "execution_count": 2,
   "metadata": {},
   "outputs": [],
   "source": [
    "from crnn import CRNN"
   ]
  },
  {
   "cell_type": "code",
   "execution_count": 3,
   "metadata": {},
   "outputs": [],
   "source": [
    "model = CRNN(32, 1, 37, 256)\n",
    "model = model.cuda()"
   ]
  },
  {
   "cell_type": "code",
   "execution_count": 39,
   "metadata": {},
   "outputs": [
    {
     "data": {
      "text/plain": [
       "IncompatibleKeys(missing_keys=[], unexpected_keys=[])"
      ]
     },
     "execution_count": 39,
     "metadata": {},
     "output_type": "execute_result"
    }
   ],
   "source": [
    "model.load_state_dict(torch.load('/home/cjy/crnn.pth'))"
   ]
  },
  {
   "cell_type": "code",
   "execution_count": 50,
   "metadata": {},
   "outputs": [
    {
     "name": "stdout",
     "output_type": "stream",
     "text": [
      "[[179 181 184 ... 174 173 173]\n",
      " [180 182 185 ... 175 175 174]\n",
      " [178 179 180 ... 176 175 175]\n",
      " ...\n",
      " [170 173 172 ... 165 171 173]\n",
      " [169 171 170 ... 169 174 176]\n",
      " [168 169 168 ... 173 175 177]]\n",
      "torch.Size([32, 128])\n"
     ]
    }
   ],
   "source": [
    "img = cv2.imread('/home/cjy/TextZoom/src/image/126.jpg')\n",
    "img = cv2.cvtColor(img,cv2.COLOR_RGB2GRAY)\n",
    "print(img)\n",
    "img_tensor = (torch.from_numpy(img).float() - 127) / 255\n",
    "img_tensor = img_tensor.float()\n",
    "print(img_tensor.shape)\n",
    "img_tensor = img_tensor.unsqueeze(0).unsqueeze(0)\n",
    "output = model(img_tensor.cuda())"
   ]
  },
  {
   "cell_type": "code",
   "execution_count": 51,
   "metadata": {},
   "outputs": [
    {
     "name": "stdout",
     "output_type": "stream",
     "text": [
      "dilsnoy\n"
     ]
    }
   ],
   "source": [
    "output = output.squeeze()\n",
    "alphabet = \"-0123456789abcdefghijklmnopqrstuvwxyz\"\n",
    "index = torch.max(output,1)[1]\n",
    "string = \"\"\n",
    "last = \"\"\n",
    "for i in index:\n",
    "    if alphabet[i] != last:\n",
    "        if i != 0:\n",
    "            string += alphabet[i]\n",
    "            last = alphabet[i]\n",
    "        else:\n",
    "            last = \"\"\n",
    "    \n",
    "    \n",
    "print(string)"
   ]
  },
  {
   "cell_type": "code",
   "execution_count": 36,
   "metadata": {},
   "outputs": [
    {
     "name": "stdout",
     "output_type": "stream",
     "text": [
      "tensor([[[[0.2353, 0.2314, 0.2275,  ..., 0.2275, 0.2235, 0.2039],\n",
      "          [0.2314, 0.2235, 0.2235,  ..., 0.2431, 0.2431, 0.2314],\n",
      "          [0.2235, 0.2196, 0.2196,  ..., 0.2431, 0.2471, 0.2392],\n",
      "          ...,\n",
      "          [0.2196, 0.2275, 0.2235,  ..., 0.2549, 0.2588, 0.2510],\n",
      "          [0.2118, 0.2157, 0.2157,  ..., 0.2510, 0.2588, 0.2510],\n",
      "          [0.1922, 0.2000, 0.2039,  ..., 0.2353, 0.2471, 0.2353]]]])\n"
     ]
    }
   ],
   "source": [
    "print(img_tensor)"
   ]
  },
  {
   "cell_type": "code",
   "execution_count": null,
   "metadata": {},
   "outputs": [],
   "source": []
  }
 ],
 "metadata": {
  "kernelspec": {
   "display_name": "Python 3",
   "language": "python",
   "name": "python3"
  },
  "language_info": {
   "codemirror_mode": {
    "name": "ipython",
    "version": 3
   },
   "file_extension": ".py",
   "mimetype": "text/x-python",
   "name": "python",
   "nbconvert_exporter": "python",
   "pygments_lexer": "ipython3",
   "version": "3.7.4"
  }
 },
 "nbformat": 4,
 "nbformat_minor": 2
}
